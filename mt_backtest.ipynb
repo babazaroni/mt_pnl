{
 "cells": [
  {
   "cell_type": "code",
   "execution_count": 1,
   "id": "automotive-fluid",
   "metadata": {},
   "outputs": [],
   "source": [
    "import json\n",
    "import datetime\n",
    "from td_ameritrade_python_api import *\n",
    "from td.client import TDClient\n",
    "\n",
    "\n"
   ]
  },
  {
   "cell_type": "code",
   "execution_count": null,
   "id": "creative-semiconductor",
   "metadata": {},
   "outputs": [
    {
     "name": "stdout",
     "output_type": "stream",
     "text": [
      "Please go to URL provided authorize your account: https://auth.tdameritrade.com/auth?response_type=code&redirect_uri=https%3A%2F%2F127.0.0.1&client_id=ALGSBJJ7CZGV7OAXUNA1VC8KRDT469IM%40AMER.OAUTHAP\n"
     ]
    }
   ],
   "source": [
    "#cred = { 'client_id': 'client_id_here', 'accountID': 'account_here' }\n",
    "#with open('/home/cc/tdcred.json','w') as outfile:\n",
    "#    json.dump(cred,outfile)\n",
    "    \n",
    "with open('/home/cc/tdcred.json',\"r\") as read_file:\n",
    "    cred = json.load(read_file)\n",
    "\n",
    "    \n",
    "\n",
    "# Create a new session, credentials path is optional.\n",
    "TDSession = TDClient(\n",
    "#    account_number=cred['accountID'],\n",
    "    client_id = cred['client_id'],\n",
    "    credentials_path = '/home/cc/Credentials/td_state.json',\n",
    "    redirect_uri='https://127.0.0.1'\n",
    ")\n",
    "\n",
    "# Login to the session\n",
    "TDSession.login()\n",
    "\n"
   ]
  },
  {
   "cell_type": "code",
   "execution_count": null,
   "id": "explicit-vietnam",
   "metadata": {},
   "outputs": [],
   "source": [
    "with open(\"actions.json\",\"r\") as read_file:\n",
    "    data = json.load(read_file)\n"
   ]
  },
  {
   "cell_type": "code",
   "execution_count": null,
   "id": "vulnerable-newman",
   "metadata": {},
   "outputs": [],
   "source": [
    "data\n"
   ]
  },
  {
   "cell_type": "code",
   "execution_count": null,
   "id": "minus-specification",
   "metadata": {},
   "outputs": [],
   "source": []
  }
 ],
 "metadata": {
  "kernelspec": {
   "display_name": "Python 3",
   "language": "python",
   "name": "python3"
  },
  "language_info": {
   "codemirror_mode": {
    "name": "ipython",
    "version": 3
   },
   "file_extension": ".py",
   "mimetype": "text/x-python",
   "name": "python",
   "nbconvert_exporter": "python",
   "pygments_lexer": "ipython3",
   "version": "3.7.4"
  }
 },
 "nbformat": 4,
 "nbformat_minor": 5
}
