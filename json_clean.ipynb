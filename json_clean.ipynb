{
 "cells": [
  {
   "cell_type": "code",
   "execution_count": 15,
   "id": "superb-input",
   "metadata": {},
   "outputs": [],
   "source": [
    "import json\n",
    "\n",
    "FILE_IN = 'weekly_1_9_22_20.json'\n",
    "FILE_OUT= 'cl_weekly_1_9_22_20.json'\n"
   ]
  },
  {
   "cell_type": "code",
   "execution_count": 16,
   "id": "simple-laundry",
   "metadata": {},
   "outputs": [],
   "source": [
    "with open(\"weekly_1_9_22_20.json\",\"r\") as read_file:\n",
    "    data = json.load(read_file)"
   ]
  },
  {
   "cell_type": "code",
   "execution_count": 17,
   "id": "treated-print",
   "metadata": {},
   "outputs": [],
   "source": [
    "def delete_field(message,field):\n",
    "    try:\n",
    "        del message[field]\n",
    "    except:\n",
    "        pass\n",
    "\n",
    "for message in data['messages']:\n",
    "    \n",
    "    delete_field(message,'type')\n",
    "    delete_field(message,'id')\n",
    "    delete_field(message,'action')\n",
    "    delete_field(message,'title')\n",
    "    delete_field(message,'photo')\n",
    "    delete_field(message,'width')\n",
    "    delete_field(message,'height')\n",
    "    \n",
    "\n",
    "        \n",
    "        \n"
   ]
  },
  {
   "cell_type": "code",
   "execution_count": 18,
   "id": "furnished-circular",
   "metadata": {},
   "outputs": [],
   "source": [
    "with open(FILE_OUT,'w')as outfile:\n",
    "    json.dump(data, outfile)"
   ]
  },
  {
   "cell_type": "code",
   "execution_count": null,
   "id": "abstract-furniture",
   "metadata": {},
   "outputs": [],
   "source": []
  }
 ],
 "metadata": {
  "kernelspec": {
   "display_name": "Python 3",
   "language": "python",
   "name": "python3"
  },
  "language_info": {
   "codemirror_mode": {
    "name": "ipython",
    "version": 3
   },
   "file_extension": ".py",
   "mimetype": "text/x-python",
   "name": "python",
   "nbconvert_exporter": "python",
   "pygments_lexer": "ipython3",
   "version": "3.7.4"
  }
 },
 "nbformat": 4,
 "nbformat_minor": 5
}
