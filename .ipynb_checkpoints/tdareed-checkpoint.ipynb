{
 "cells": [
  {
   "cell_type": "code",
   "execution_count": 3,
   "metadata": {},
   "outputs": [],
   "source": [
    "#from github.com/areed1192/td-ameritrade-python-api\n",
    "\n",
    "import requests\n",
    "\n",
    "from td_ameritrade_python_api import *\n",
    "import re\n",
    "from datetime import datetime as dt\n",
    "from datetime import date as date\n",
    "import pandas as pd\n",
    "from pandas.tseries.offsets import BDay\n",
    "\n",
    "import json\n",
    "\n",
    "\n",
    "\n",
    "from td.utils import *"
   ]
  },
  {
   "cell_type": "code",
   "execution_count": 4,
   "metadata": {},
   "outputs": [
    {
     "data": {
      "text/plain": [
       "datetime.datetime(2021, 3, 6, 8, 13, 25, 175538)"
      ]
     },
     "execution_count": 4,
     "metadata": {},
     "output_type": "execute_result"
    }
   ],
   "source": [
    "dt.now()"
   ]
  },
  {
   "cell_type": "code",
   "execution_count": 5,
   "metadata": {},
   "outputs": [],
   "source": [
    "def milliseconds_since_epoch(date):\n",
    "#    return int(date.timestamp()*1000)\n",
    "    return int(date.timestamp())*1000"
   ]
  },
  {
   "cell_type": "code",
   "execution_count": 6,
   "metadata": {},
   "outputs": [
    {
     "data": {
      "text/plain": [
       "1615047205000"
      ]
     },
     "execution_count": 6,
     "metadata": {},
     "output_type": "execute_result"
    }
   ],
   "source": [
    "milliseconds_since_epoch(dt.now())"
   ]
  },
  {
   "cell_type": "code",
   "execution_count": 7,
   "metadata": {},
   "outputs": [],
   "source": [
    "# Import the client\n",
    "from td.client import TDClient\n",
    "\n",
    "with open('/home/cc/tdcred.json',\"r\") as read_file:\n",
    "    cred = json.load(read_file)\n",
    "    \n",
    "#print(cred)\n",
    "\n",
    "# Create a new session, credentials path is optional.\n",
    "TDSession = TDClient(\n",
    "    account_number=cred['accountID'],\n",
    "    client_id = cred['client_id'],\n",
    "    credentials_path = '/home/cc/Credentials/td_state.json',\n",
    "    redirect_uri = \"https://127.0.0.1\"\n",
    ")\n",
    "\n",
    "# Login to the session\n",
    "TDSession.login()\n",
    "\n",
    "# Grab real-time quotes for 'MSFT' (Microsoft)\n",
    "msft_quotes = TDSession.get_quotes(instruments='MSFT')\n",
    "\n",
    "# Grab real-time quotes for 'AMZN' (Amazon) and 'SQ' (Square)\n",
    "multiple_quotes = TDSession.get_quotes(instruments=['AMZN','SQ'])"
   ]
  },
  {
   "cell_type": "code",
   "execution_count": null,
   "metadata": {},
   "outputs": [],
   "source": [
    "TDSession.state['access_token']"
   ]
  },
  {
   "cell_type": "code",
   "execution_count": null,
   "metadata": {},
   "outputs": [],
   "source": [
    "def extract_expiration_strike(symbol):\n",
    "    date_type_strike = re.split('_',symbol)\n",
    "    date_strike = re.split(r'[P,C]',date_type_strike[1])\n",
    "    \n",
    "    expiration = dt.strptime(date_strike[0],'%m%d%y').date()\n",
    "    \n",
    "    return expiration,float(date_strike[1])\n",
    "\n",
    "    \n",
    "    "
   ]
  },
  {
   "cell_type": "code",
   "execution_count": null,
   "metadata": {},
   "outputs": [],
   "source": [
    "#multiple_quotes"
   ]
  },
  {
   "cell_type": "code",
   "execution_count": null,
   "metadata": {},
   "outputs": [],
   "source": [
    "positions = TDSession.get_accounts(fields = ['positions'])\n",
    "\n",
    "if positions == None:\n",
    "    print(\"Can't get positions\")\n"
   ]
  },
  {
   "cell_type": "code",
   "execution_count": null,
   "metadata": {},
   "outputs": [],
   "source": [
    "\n",
    "\n",
    "def show_positions(positions):\n",
    "    \n",
    "    for account in positions:\n",
    "        \n",
    "        if 'securitiesAccount' not in account:\n",
    "            continue\n",
    "            \n",
    "        securitiesAccount = account['securitiesAccount']\n",
    "        \n",
    "        print(\"Account ID: \",securitiesAccount['accountId'])\n",
    "        \n",
    "        if 'positions' not in securitiesAccount.keys():\n",
    "            print(\"no positions\")\n",
    "            continue\n",
    "\n",
    "        for p in securitiesAccount['positions']:\n",
    "    \n",
    "            pdf = pd.DataFrame(p)\n",
    "    \n",
    "            i = p['instrument']\n",
    "    \n",
    "            if i['assetType'] == 'EQUITY':\n",
    "                print(i['symbol'])\n",
    "    \n",
    "            if i['assetType'] == 'OPTION':\n",
    "        \n",
    "                expiration,strike = extract_expiration_strike(i['symbol'])\n",
    "    \n",
    "                today = date.today()\n",
    "    \n",
    "                if today <= expiration:\n",
    "        \n",
    "                    average_price = p['averagePrice']\n",
    "                    netQuantity = p['settledLongQuantity'] + p['settledShortQuantity']\n",
    "                    trade_value = average_price * 100 * netQuantity\n",
    "                    market_value = p['marketValue']\n",
    "        \n",
    "                    pnl_since_open = market_value - trade_value\n",
    "\n",
    "\n",
    "                    print(\n",
    "                        i['underlyingSymbol'],\n",
    "#            p['settledShortQuantity'],\n",
    "#              p['settledLongQuantity'],\n",
    "                          netQuantity,\n",
    "#              i['underlyingSymbol'],\n",
    "#              i['description'],\n",
    "                          strike,\n",
    "                          p['averagePrice'], # optionPrice per share\n",
    "                          p['marketValue'],  # Quantity * 100 * optionPrice\n",
    "                          pnl_since_open,\n",
    "                          p['currentDayProfitLoss'])  # P/L Day\n",
    "\n",
    "    \n",
    "    \n",
    "#        print(pdf)\n",
    "#        print()\n",
    "        \n",
    "#        break\n",
    "\n",
    "show_positions(positions)\n",
    "        \n"
   ]
  },
  {
   "cell_type": "code",
   "execution_count": null,
   "metadata": {},
   "outputs": [],
   "source": [
    "transactions = TDSession.get_transactions(account = cred['accountID'],transaction_type = 'TRADE')"
   ]
  },
  {
   "cell_type": "code",
   "execution_count": null,
   "metadata": {},
   "outputs": [],
   "source": [
    "import pandas_market_calendars as mcal\n",
    "\n",
    "nyse = mcal.get_calendar('NYSE')\n",
    "#print(mcal.get_calendar_names())\n",
    "\n",
    "def is_market_day(date):\n",
    "    if (not len(pd.bdate_range(date,date))):\n",
    "        print(\"it's a not a weekday\")\n",
    "        return False  # its not a weekday\n",
    "    \n",
    "    if nyse.valid_days(start_date = date,end_date = date) == 0:\n",
    "        return False  # no valid market days in date range\n",
    "    \n",
    "    return True  # a weekday and not a holiday\n",
    "\n",
    "def nearest_market_day(date):\n",
    "    \n",
    "#    print(\"nearest_market_day: \", type(date))\n",
    "\n",
    "    if is_market_day(date):\n",
    "        return date\n",
    "    \n",
    "#    print(\"going to previous day\")\n",
    "    \n",
    "    return nearest_market_day(date - pd.Timedelta(days=1))"
   ]
  },
  {
   "cell_type": "code",
   "execution_count": null,
   "metadata": {},
   "outputs": [],
   "source": [
    "def get_closing_price(expiration_date,symbol):\n",
    "    \n",
    "    #print(\"get_closing_price:\",expiration_date,symbol)\n",
    "#    print(\"get_closing_price:\",symbol,type(expiration_date),expiration_date.date())\n",
    "        \n",
    "    expiration_date = nearest_market_day(expiration_date)\n",
    "    \n",
    "    expiration_date = expiration_date.replace(hour = 6,minute = 30, second = 0)\n",
    "    \n",
    "    print(\"get_closing_price nearest:\",expiration_date,symbol)\n",
    "    \n",
    "    #print('get_closing_price: ',type(expiration_date),expiration_date.to_pydatetime())\n",
    "    \n",
    "#    print(\"get_closing_price since epoch\",expiration_date)\n",
    "    \n",
    "\n",
    "    epoch = milliseconds_since_epoch(expiration_date)\n",
    "    \n",
    "    print(\"expiration_date:\",expiration_date,epoch)\n",
    "    \n",
    "\n",
    "    price_history = TDSession.get_price_history(symbol = symbol, period_type = \"day\",period = 1, end_date = epoch, frequency_type = \"minute\", frequency = 30,extended_hours = False)\n",
    "#    price_history = TDSession.get_price_history(symbol = symbol, period_type = \"day\",period = 1, frequency_type = \"minute\", frequency = 30,extended_hours = False)\n",
    "#    price_history = TDSession.get_price_history(symbol = 'SPX',extended_hours = False)\n",
    "    \n",
    "    if price_history is None:\n",
    "        print(\"cannot get closing price for: \",symbol,expiration_date)\n",
    "        return None\n",
    "    \n",
    "#    print('get_closing_price: ',price_history,symbol,epoch,expiration_date)\n",
    "    \n",
    "#    for c in price_history['candles']:\n",
    "#        print(c['datetime'],pd.to_datetime(c['datetime'],unit = 'ms'))\n",
    "        \n",
    "    \n",
    "    #print(\"get_closing_price\",price_history)\n",
    "    \n",
    "    candles = price_history[\"candles\"]\n",
    "    \n",
    "    print(\"candles len = \",len(candles))\n",
    "    \n",
    "    for c in candles:\n",
    "        print(c)\n",
    "    \n",
    "    if len(candles):\n",
    "        return candles[-1][\"close\"]\n",
    "    \n",
    "    return None  # probably no close yet today while in session\n",
    "    \n",
    "\n",
    "def r(float_val):\n",
    "    return \"%.2f\" % float_val\n"
   ]
  },
  {
   "cell_type": "code",
   "execution_count": null,
   "metadata": {},
   "outputs": [],
   "source": [
    "def get_transactions_as_dataframe(transactions):\n",
    "    \n",
    "    \n",
    "    df_options = pd.DataFrame(columns = ['ExpirationDate','Symbol','OptionSymbol','TransactionDate','OrderId','OrderIdIndex','positionEffect','amount','description','Cost'])\n",
    "\n",
    "    first_t = None\n",
    "    \n",
    "\n",
    "    for t in transactions:\n",
    "#    print(t)\n",
    "        ti = t['transactionItem']\n",
    "        i = ti['instrument']\n",
    "        if 'assetType' not in i.keys():\n",
    "            continue\n",
    "        if i['assetType'] == 'OPTION':\n",
    "            \n",
    "            if i['underlyingSymbol'] != 'AAPL':\n",
    "                continue\n",
    "                \n",
    "            #print(\"get_transactions_as_dataframe Dict:\",t)\n",
    "                \n",
    "\n",
    "            orderId = t['orderId'].split('.')\n",
    "            if len(orderId) == 1: #no orderId index\n",
    "                orderId.append('0')\n",
    "                \n",
    "            expiration,strike = extract_expiration_strike(i['symbol'])\n",
    "            \n",
    "            underlyingSymbol = i['underlyingSymbol']\n",
    "            \n",
    "            if underlyingSymbol == 'SPXW':  # may have to strip 'W' off of every symbol\n",
    "                underlyingSymbol = 'SPX'\n",
    "            \n",
    "            df_option = ({'ExpirationDate' : dt.strptime(i['optionExpirationDate'].split('+')[0],'%Y-%m-%dT%H:%M:%S'),\n",
    "                                            'ExpirationDateStr' : i['optionExpirationDate'],\n",
    "                                            'Symbol' : underlyingSymbol,\n",
    "                                            'OptionSymbol' : i['symbol'],\n",
    "                                            'TransactionDate': dt.strptime(t['transactionDate'].split('+')[0],'%Y-%m-%dT%H:%M:%S'),\n",
    "                                            'TransactionDateStr' : t['transactionDate'],\n",
    "                                            'OrderId' : orderId[0],\n",
    "                                            'OrderIdIndex' : int(orderId[1]),\n",
    "                                            'positionEffect' : ti['positionEffect'],\n",
    "                                            'amount' : ti['amount'] if ti['cost']<=0 else -ti['amount'],\n",
    "                                            'description' :i['description'],\n",
    "                                            'strike' : strike,\n",
    "                                            'putCall' : i['putCall'],\n",
    "                                            'Cost': ti['cost']})\n",
    "            \n",
    "            #print(\"get_transactions df:\",df_option['amount'])\n",
    "            \n",
    "            df_options = df_options.append(df_option,ignore_index=True)\n",
    "            \n",
    "            date_type_strike = re.split('_',i['symbol'])\n",
    "            date_strike = re.split(r'[P,C]',date_type_strike[1])\n",
    "            \n",
    "            #print(i['underlyingSymbol {} dt.strptime {} i[optionExpirationDate] {}'],expiration,dt.strptime(i['optionExpirationDate'].split('+')[0],'%Y-%m-%dT%H:%M:%S'),i['optionExpirationDate'])\n",
    "            exp1 = expiration\n",
    "            #print(exp1)\n",
    "            exp2 = dt.strptime(i['optionExpirationDate'].split('+')[0],'%Y-%m-%dT%H:%M:%S')\n",
    "            #print(exp2)\n",
    "            exp3 = i['optionExpirationDate']\n",
    "            #print(exp3)\n",
    "            #print('underlyingSymbol {} expiration {} dt.strptime {} i[optionExpirationDate] {}'.format(i['underlyingSymbol'],exp1,exp2,exp3))\n",
    "\n",
    "#            print(t['transactionDate'],i['underlyingSymbol'],ti['instruction'],ti['positionEffect'],ti['amount'],'[',i['description'],']',ti['price'],ti['cost'])\n",
    "#        print(i)\n",
    "#        print()\n",
    "    if i['assetType'] == 'EQUITY':\n",
    "#        print(t['transactionDate'],i['symbol'],ti['instruction'],ti['amount'],ti['price'],ti['cost'])\n",
    "        pass\n",
    "\n",
    "    return df_options\n"
   ]
  },
  {
   "cell_type": "code",
   "execution_count": null,
   "metadata": {},
   "outputs": [],
   "source": [
    "def calc_expiration_cost(row,closing_price):\n",
    "    cost = 0\n",
    "    if row['putCall'] == 'PUT':\n",
    "        if closing_price < row['strike']:\n",
    "            cost_option = (row['strike'] - closing_price) * 100 * row['amount']\n",
    "            cost += cost_option\n",
    "            #print(\"!!!!!!put held cost {} (strike: {} - closing_price: {}) * 100 * amount: () \".format(r(cost_option),row['strike'],closing_price,row['amount']))\n",
    "                        \n",
    "    if row['putCall'] == 'CALL':\n",
    "        if closing_price > row['strike']:\n",
    "            cost_option = (closing_price - row['strike']) * 100 * row['amount']\n",
    "            cost += cost_option\n",
    "            #print(\"!!!!!!call held cost {} (closing_price: {} - strike: {}) * 100 * amount: {} \".format(r(cost_option),closing_price,row['strike'],row['amount']))\n",
    "            \n",
    "    #print('expiration_cost: ',cost)\n",
    "\n",
    "    return cost\n"
   ]
  },
  {
   "cell_type": "code",
   "execution_count": null,
   "metadata": {},
   "outputs": [],
   "source": [
    "\n",
    "df_options = get_transactions_as_dataframe(transactions)\n",
    "\n",
    "#print(\"df_options\",df_options)\n",
    "\n",
    "start_date = datetime.datetime(2020,4,21)\n",
    "\n",
    "df_options.drop(df_options[df_options['TransactionDate'] < start_date].index,inplace=True)\n",
    "\n",
    "df_options = df_options.sort_values(by='TransactionDate')  #sort to get in ascending order\n",
    "        \n",
    "        \n",
    "#df_options_group = df_options.groupby(['ExpirationDate','Symbol','OrderId'])\n",
    "df_options_group = df_options.groupby(['ExpirationDate','Symbol'])\n",
    "\n",
    "\n",
    "cost_global = 0\n",
    "cost_held_global = 0\n",
    "\n",
    "for group_name, group in df_options_group:\n",
    "    \n",
    "    print(\"group expiration date:\",group_name)\n",
    "    \n",
    "    \n",
    "    group_expiration_date = group_name[0]\n",
    "    group_symbol = group_name[1]\n",
    "    \n",
    "    if group_expiration_date >= datetime.datetime.now():\n",
    "        continue  # next group if future expiration\n",
    "    if group_expiration_date < date(2020,4,1):\n",
    "        continue\n",
    "        \n",
    "        \n",
    "    closing_price = get_closing_price(group_expiration_date,group_symbol)\n",
    "    \n",
    "    if closing_price is None:\n",
    "        print(\"No closing price for: \",group_symbol, \"is market in session?\")\n",
    "        continue\n",
    "\n",
    "    cost = 0\n",
    "    cost_held = 0\n",
    "    print()\n",
    "    print(group_expiration_date,group_symbol)\n",
    "#    print(group)\n",
    "    print()\n",
    "    print()\n",
    "    \n",
    "    \n",
    "    orderIdGroup = group.groupby(['OrderId'])\n",
    "        \n",
    "    group_cost = 0\n",
    "    group_cost_held = 0\n",
    "    \n",
    "    \n",
    "    for subgroup_name, subgroup in orderIdGroup:\n",
    "        \n",
    "        print(\"*************************************************************************************************\",len(subgroup))\n",
    "\n",
    "        print()\n",
    "        \n",
    "        subgroup_positions = {}\n",
    "\n",
    "        cost = 0\n",
    "        cost_held = 0\n",
    "        for row_index, row in subgroup.iterrows():\n",
    "            \n",
    "#            print(\"row expiration str: \", row['ExpirationDateStr'])\n",
    "#            print(\"row transaction str: \", row['TransactionDateStr'])\n",
    "\n",
    "#            print(\"row: \",row)\n",
    "            print(\"{} {} {} {}() {} [{}] {}\".format(\" \" * 5,row['OrderIdIndex'],row['TransactionDate'],row['strike'],row['amount'],row['description'], row['Cost']))\n",
    "            \n",
    "            \n",
    "            if row['description'] in subgroup_positions.keys():\n",
    "                subgroup_positions[row['description']]['amount'] += row['amount']\n",
    "            else:\n",
    "                subgroup_positions[row['description']] = row\n",
    "                \n",
    "            if row['positionEffect'] == 'OPENING' and len(subgroup) > 1:  # only opening and not single puts, calls. \n",
    "                #print(\"OPENING\")\n",
    "\n",
    "                cost += row['Cost']\n",
    "                cost_held += row['Cost']  #the premium paid or received\n",
    "        \n",
    "                expiration_cost = calc_expiration_cost(row,closing_price)\n",
    "                cost_held += expiration_cost\n",
    "\n",
    "\n",
    "    \n",
    "            if row['positionEffect'] == 'CLOSING' and len(subgroup) > 1:  # only closing and not single puts, calls.\n",
    "                print(\"CLOSING****************************************\")\n",
    "                cost += row['Cost']\n",
    "                \n",
    "                \n",
    "        #print(\"\\nchecking expiration positions\\n\")\n",
    "                \n",
    "        for key in subgroup_positions:\n",
    "            row = subgroup_positions[key]\n",
    "                \n",
    "            expiration_cost = calc_expiration_cost(row,closing_price)\n",
    "            cost += expiration_cost\n",
    "                \n",
    "\n",
    "\n",
    "\n",
    "                \n",
    "        print(\" \" * 80,r(cost),r(cost_held))\n",
    "\n",
    "        group_cost += cost\n",
    "        group_cost_held += cost_held\n",
    "        \n",
    "    print(\" \" * 100,r(group_cost),r(group_cost_held))\n",
    "    \n",
    "    cost_global += group_cost\n",
    "    cost_held_global += group_cost_held\n",
    "    \n",
    "    print(\" \" * 120, r(cost_global),r(cost_held_global))\n",
    "        \n",
    "    print(\"closing price:\",closing_price)\n",
    "    \n",
    "            \n",
    "    \n",
    "\n"
   ]
  },
  {
   "cell_type": "code",
   "execution_count": null,
   "metadata": {},
   "outputs": [],
   "source": [
    "rtransactions = transactions.copy()\n",
    "rtransactions.reverse()\n",
    "cost = 0\n",
    "for t in rtransactions:\n",
    "    ti = t['transactionItem']\n",
    "\n",
    "    i = ti['instrument']\n",
    "    \n",
    "    if 'assetType' in i.keys():\n",
    "        \n",
    "        if i['assetType'] == 'OPTION':\n",
    "            cost += ti['cost']\n",
    "            print(\"{} {:<6} {:6.0f}c {:10.2f} {:10.2f}\".format(t['transactionDate'],i['underlyingSymbol'],ti['amount'],ti['cost'],cost))\n",
    "        \n",
    "        if i['assetType'] == 'EQUITY':\n",
    "            cost += ti['cost']\n",
    "            print(\"{} {:<6} {:6.0f}s {:10.2f} {:10.2f}\".format(t['transactionDate'],i['symbol'],ti['amount'],ti['cost'],cost))\n",
    "\n"
   ]
  },
  {
   "cell_type": "code",
   "execution_count": null,
   "metadata": {},
   "outputs": [],
   "source": [
    "type(transactions)"
   ]
  },
  {
   "cell_type": "code",
   "execution_count": null,
   "metadata": {},
   "outputs": [],
   "source": [
    "from td.option_chain import *"
   ]
  },
  {
   "cell_type": "code",
   "execution_count": null,
   "metadata": {},
   "outputs": [],
   "source": [
    "oc = OptionChain(symbol = \"SPY\")"
   ]
  },
  {
   "cell_type": "code",
   "execution_count": null,
   "metadata": {},
   "outputs": [],
   "source": [
    "type(oc)"
   ]
  },
  {
   "cell_type": "code",
   "execution_count": null,
   "metadata": {},
   "outputs": [],
   "source": [
    "oc._get_query_parameters()"
   ]
  },
  {
   "cell_type": "code",
   "execution_count": null,
   "metadata": {},
   "outputs": [],
   "source": [
    "re.split('c','abc;def')"
   ]
  },
  {
   "cell_type": "code",
   "execution_count": null,
   "metadata": {},
   "outputs": [],
   "source": [
    "date_type_strike"
   ]
  },
  {
   "cell_type": "code",
   "execution_count": null,
   "metadata": {},
   "outputs": [],
   "source": [
    "df = pd.DataFrame([[1.1, 1.1, 1.1, 2.6, 2.5, 3.4,2.6,2.6,3.4,3.4,2.6,1.1,1.1,3.3], list('AAABBBBABCBDDD'), [1.1, 1.7, 2.5, 2.6, 3.3, 3.8,4.0,4.2,4.3,4.5,4.6,4.7,4.7,4.8], ['x/y/z','x/y','x/y/z/n','x/u','x','x/u/v','x/y/z','x','x/u/v/b','-','x/y','x/y/z','x','x/u/v/w'],['1','3','3','2','4','2','5','3','6','3','5','1','1','1']]).T\n",
    "df.columns = ['col1','col2','col3','col4','col5']"
   ]
  },
  {
   "cell_type": "code",
   "execution_count": null,
   "metadata": {},
   "outputs": [],
   "source": [
    "df\n"
   ]
  },
  {
   "cell_type": "code",
   "execution_count": null,
   "metadata": {},
   "outputs": [],
   "source": [
    "d =df.groupby(['col5','col2'])"
   ]
  },
  {
   "cell_type": "code",
   "execution_count": null,
   "metadata": {},
   "outputs": [],
   "source": [
    "d"
   ]
  },
  {
   "cell_type": "code",
   "execution_count": null,
   "metadata": {},
   "outputs": [],
   "source": [
    "\"abc\".split('.')"
   ]
  },
  {
   "cell_type": "code",
   "execution_count": null,
   "metadata": {},
   "outputs": [],
   "source": [
    "import time\n",
    "dt = '2020-05-15T05:00:00+0000'.split('+')[0]"
   ]
  },
  {
   "cell_type": "code",
   "execution_count": null,
   "metadata": {},
   "outputs": [],
   "source": [
    "t = datetime.strptime(dt,'%Y-%m-%dT%I:%M:%S')"
   ]
  },
  {
   "cell_type": "code",
   "execution_count": null,
   "metadata": {},
   "outputs": [],
   "source": [
    "datetime.strptime('2020-05-15T05:00:00+0000','%Y-%m-%dT%I:%M:%S+0000')"
   ]
  },
  {
   "cell_type": "code",
   "execution_count": null,
   "metadata": {},
   "outputs": [],
   "source": [
    "time.strftime(\"%Y-%m-%d\",t)"
   ]
  },
  {
   "cell_type": "code",
   "execution_count": null,
   "metadata": {},
   "outputs": [],
   "source": [
    "\"x\" * 3"
   ]
  },
  {
   "cell_type": "code",
   "execution_count": null,
   "metadata": {},
   "outputs": [],
   "source": [
    "dt.now()"
   ]
  },
  {
   "cell_type": "code",
   "execution_count": null,
   "metadata": {},
   "outputs": [],
   "source": [
    "\n",
    "\n",
    "print(\"epoch\",group_name[0],milliseconds_since_epoch(dt.now()))\n",
    "    \n",
    "epoch = milliseconds_since_epoch(dt.now())\n",
    "    \n",
    "price_history = TDSession.get_price_history(symbol = \"TSLA\", period_type = \"day\", period=1, start_date = epoch)\n",
    "    \n",
    "    \n",
    "    \n",
    "print(len(price_history['candles']))\n"
   ]
  },
  {
   "cell_type": "code",
   "execution_count": null,
   "metadata": {},
   "outputs": [],
   "source": [
    "d = dt.now()\n",
    "milliseconds_since_epoch(d)"
   ]
  },
  {
   "cell_type": "code",
   "execution_count": null,
   "metadata": {},
   "outputs": [],
   "source": [
    "\n",
    "symbol = 'TSLA'\n",
    "\n",
    "date = dt(year = 2021,month = 1,day= 20,hour = 6,minute=30) #pst\n",
    "date = dt(year = 2020,month = 4,day= 24,hour = 6,minute=30)\n",
    "\n",
    "#Wednesday, January 20, 2021 2:30:00 PM\n",
    "#expiration_date: 2020-04-24 06:30:00 1587709800000\n",
    "print(date)\n",
    "\n",
    "epoch = milliseconds_since_epoch(date)\n",
    "d = dt.fromtimestamp(epoch/1000)\n",
    "print('epoch:',epoch,d)\n",
    "\n",
    "\n",
    "\n",
    "\n",
    "#price_history = TDSession.get_price_history(symbol = 'TSLA', period_type = \"day\", period = 1,end_date = 1611153000000, frequency_type = \"minute\", frequency = 30,extended_hours = False)\n",
    "price_history = TDSession.get_price_history(symbol = 'AAPL', period_type = \"day\", period = 1,end_date = epoch, frequency_type = \"minute\", frequency = 30,extended_hours = False)\n"
   ]
  },
  {
   "cell_type": "code",
   "execution_count": null,
   "metadata": {},
   "outputs": [],
   "source": [
    "len(price_history['candles'])"
   ]
  },
  {
   "cell_type": "code",
   "execution_count": null,
   "metadata": {},
   "outputs": [],
   "source": [
    "price_history\n"
   ]
  },
  {
   "cell_type": "code",
   "execution_count": null,
   "metadata": {},
   "outputs": [],
   "source": [
    "date = dt(year = 2020,month = 4,day= 23,hour = 6,minute=30)\n",
    "\n",
    "epoch = milliseconds_since_epoch(date)\n",
    "\n",
    "print(epoch)\n"
   ]
  },
  {
   "cell_type": "code",
   "execution_count": null,
   "metadata": {},
   "outputs": [],
   "source": [
    "last = 0\n",
    "for c in candles['candles']:\n",
    "    print(c['datetime']- last)\n",
    "    last = c['datetime']"
   ]
  },
  {
   "cell_type": "code",
   "execution_count": 10,
   "metadata": {},
   "outputs": [
    {
     "name": "stdout",
     "output_type": "stream",
     "text": [
      "0 2020-06-18 06:30:00 1592487000000 0\n",
      "1 2020-06-19 06:30:00 1592573400000 13\n",
      "2 2020-06-20 06:30:00 1592659800000 13\n",
      "3 2020-06-21 06:30:00 1592746200000 13\n",
      "4 2020-06-22 06:30:00 1592832600000 13\n",
      "5 2020-06-23 06:30:00 1592919000000 13\n",
      "6 2020-06-24 06:30:00 1593005400000 13\n",
      "7 2020-06-25 06:30:00 1593091800000 13\n",
      "8 2020-06-26 06:30:00 1593178200000 13\n",
      "9 2020-06-27 06:30:00 1593264600000 13\n"
     ]
    },
    {
     "ename": "KeyboardInterrupt",
     "evalue": "",
     "output_type": "error",
     "traceback": [
      "\u001b[0;31m---------------------------------------------------------------------------\u001b[0m",
      "\u001b[0;31mKeyboardInterrupt\u001b[0m                         Traceback (most recent call last)",
      "\u001b[0;32m<ipython-input-10-8eeecb201dea>\u001b[0m in \u001b[0;36m<module>\u001b[0;34m\u001b[0m\n\u001b[1;32m      5\u001b[0m \u001b[0;32mfor\u001b[0m \u001b[0mx\u001b[0m \u001b[0;32min\u001b[0m \u001b[0mrange\u001b[0m\u001b[0;34m(\u001b[0m\u001b[0;36m2000\u001b[0m\u001b[0;34m)\u001b[0m\u001b[0;34m:\u001b[0m\u001b[0;34m\u001b[0m\u001b[0;34m\u001b[0m\u001b[0m\n\u001b[1;32m      6\u001b[0m     \u001b[0mepoch\u001b[0m \u001b[0;34m=\u001b[0m \u001b[0mmilliseconds_since_epoch\u001b[0m\u001b[0;34m(\u001b[0m\u001b[0mdate\u001b[0m\u001b[0;34m)\u001b[0m\u001b[0;34m\u001b[0m\u001b[0;34m\u001b[0m\u001b[0m\n\u001b[0;32m----> 7\u001b[0;31m     \u001b[0msleep\u001b[0m\u001b[0;34m(\u001b[0m\u001b[0;36m.3\u001b[0m\u001b[0;34m)\u001b[0m\u001b[0;34m\u001b[0m\u001b[0;34m\u001b[0m\u001b[0m\n\u001b[0m\u001b[1;32m      8\u001b[0m     \u001b[0mprice_history\u001b[0m \u001b[0;34m=\u001b[0m \u001b[0mTDSession\u001b[0m\u001b[0;34m.\u001b[0m\u001b[0mget_price_history\u001b[0m\u001b[0;34m(\u001b[0m\u001b[0msymbol\u001b[0m \u001b[0;34m=\u001b[0m \u001b[0;34m'AAPL'\u001b[0m\u001b[0;34m,\u001b[0m \u001b[0mperiod_type\u001b[0m \u001b[0;34m=\u001b[0m \u001b[0;34m\"day\"\u001b[0m\u001b[0;34m,\u001b[0m \u001b[0mperiod\u001b[0m \u001b[0;34m=\u001b[0m \u001b[0;36m1\u001b[0m\u001b[0;34m,\u001b[0m\u001b[0mend_date\u001b[0m \u001b[0;34m=\u001b[0m \u001b[0mepoch\u001b[0m\u001b[0;34m,\u001b[0m \u001b[0mfrequency_type\u001b[0m \u001b[0;34m=\u001b[0m \u001b[0;34m\"minute\"\u001b[0m\u001b[0;34m,\u001b[0m \u001b[0mfrequency\u001b[0m \u001b[0;34m=\u001b[0m \u001b[0;36m30\u001b[0m\u001b[0;34m,\u001b[0m\u001b[0mextended_hours\u001b[0m \u001b[0;34m=\u001b[0m \u001b[0;32mFalse\u001b[0m\u001b[0;34m)\u001b[0m\u001b[0;34m\u001b[0m\u001b[0;34m\u001b[0m\u001b[0m\n\u001b[1;32m      9\u001b[0m     \u001b[0;32mif\u001b[0m \u001b[0mprice_history\u001b[0m\u001b[0;34m:\u001b[0m\u001b[0;34m\u001b[0m\u001b[0;34m\u001b[0m\u001b[0m\n",
      "\u001b[0;31mKeyboardInterrupt\u001b[0m: "
     ]
    }
   ],
   "source": [
    "from time import sleep\n",
    "date = dt(year = 2021,month = 1,day= 20,hour = 6,minute=30) \n",
    "date = dt(year = 2020,month = 6,day= 18,hour = 6,minute=30) #Start of bad dates\n",
    "\n",
    "for x in range(2000):\n",
    "    epoch = milliseconds_since_epoch(date)\n",
    "    sleep(.3)\n",
    "    price_history = TDSession.get_price_history(symbol = 'AAPL', period_type = \"day\", period = 1,end_date = epoch, frequency_type = \"minute\", frequency = 30,extended_hours = False)\n",
    "    if price_history:\n",
    "        print(x,date,epoch,len(price_history['candles']))\n",
    "    else:\n",
    "        print(x,date,'NONE')\n",
    "    date = date + pd.Timedelta(days=1)"
   ]
  },
  {
   "cell_type": "code",
   "execution_count": null,
   "metadata": {},
   "outputs": [],
   "source": []
  }
 ],
 "metadata": {
  "kernelspec": {
   "display_name": "Python 3",
   "language": "python",
   "name": "python3"
  },
  "language_info": {
   "codemirror_mode": {
    "name": "ipython",
    "version": 3
   },
   "file_extension": ".py",
   "mimetype": "text/x-python",
   "name": "python",
   "nbconvert_exporter": "python",
   "pygments_lexer": "ipython3",
   "version": "3.7.4"
  }
 },
 "nbformat": 4,
 "nbformat_minor": 4
}
