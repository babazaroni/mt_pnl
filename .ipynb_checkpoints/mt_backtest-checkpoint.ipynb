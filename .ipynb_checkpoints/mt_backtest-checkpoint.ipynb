{
 "cells": [
  {
   "cell_type": "code",
   "execution_count": 4,
   "id": "8eae9e66",
   "metadata": {},
   "outputs": [],
   "source": [
    "import json\n",
    "import pandas as pd\n",
    "#from mt_utils import *\n",
    "from mt_data import download,data_global_set\n",
    "#from mt_strategy import *\n",
    "from mt_strategy import Premium_only,Strategy_let_expire,Strategy_p_loss,Strategy_p_profit\n",
    "from datetime import datetime\n",
    "from datetime import timedelta\n",
    "from datetime import time\n",
    "from functools import reduce\n",
    "import numpy as np\n"
   ]
  },
  {
   "cell_type": "code",
   "execution_count": 5,
   "id": "04ea2570",
   "metadata": {},
   "outputs": [
    {
     "name": "stdout",
     "output_type": "stream",
     "text": [
      "{'ts': '2020-05-26T06:52:24', 'action': 'shorting', 'sym': 'ZM', 'spread_type': 'CALL', 'strike_date': '2020-05-29', 'strikes': [180.0, 185.0]}\n"
     ]
    },
    {
     "ename": "NameError",
     "evalue": "name 'data_global_set' is not defined",
     "output_type": "error",
     "traceback": [
      "\u001b[0;31m---------------------------------------------------------------------------\u001b[0m",
      "\u001b[0;31mNameError\u001b[0m                                 Traceback (most recent call last)",
      "\u001b[0;32m<ipython-input-5-d3b22e1b2b93>\u001b[0m in \u001b[0;36m<module>\u001b[0;34m\u001b[0m\n\u001b[1;32m      4\u001b[0m \u001b[0;31m#options_cache,underlying_cache = data_init()\u001b[0m\u001b[0;34m\u001b[0m\u001b[0;34m\u001b[0m\u001b[0;34m\u001b[0m\u001b[0m\n\u001b[1;32m      5\u001b[0m \u001b[0;34m\u001b[0m\u001b[0m\n\u001b[0;32m----> 6\u001b[0;31m \u001b[0mdata_global_set\u001b[0m\u001b[0;34m(\u001b[0m\u001b[0;34m*\u001b[0m\u001b[0mdata_init\u001b[0m\u001b[0;34m(\u001b[0m\u001b[0;34m)\u001b[0m\u001b[0;34m)\u001b[0m\u001b[0;34m\u001b[0m\u001b[0;34m\u001b[0m\u001b[0m\n\u001b[0m\u001b[1;32m      7\u001b[0m \u001b[0;34m\u001b[0m\u001b[0m\n\u001b[1;32m      8\u001b[0m \u001b[0;34m\u001b[0m\u001b[0m\n",
      "\u001b[0;31mNameError\u001b[0m: name 'data_global_set' is not defined"
     ]
    }
   ],
   "source": [
    "actions = json.loads(download(\"https://www.dropbox.com/s/psgut932tw77b82/actions.json?dl=1\"))\n",
    "print(actions[0])\n",
    "\n",
    "#options_cache,underlying_cache = data_init()\n",
    "\n",
    "data_global_set(*data_init())\n",
    "\n",
    "    \n",
    "    "
   ]
  },
  {
   "cell_type": "code",
   "execution_count": null,
   "id": "52594b91",
   "metadata": {},
   "outputs": [],
   "source": [
    "class Date_Reduce():\n",
    "    date = None\n",
    "    repeat = 0\n",
    "    count = 0\n",
    "    def __init__(self,repeat = 10):\n",
    "        self.repeat = repeat\n",
    "        \n",
    "    def reduce(self,new_date):\n",
    "        \n",
    "        if self.date == None or self.count == self.repeat:\n",
    "            self.date = new_date\n",
    "            self.count = 0\n",
    "            return str(new_date)\n",
    "        \n",
    "        if self.date.year != new_date.year:\n",
    "            self.date = new_date\n",
    "            self.count = 0\n",
    "            return str(new_date)\n",
    "        \n",
    "        self.count = self.count + 1\n",
    "        \n",
    "        return \" \" * 5 + \"{:02d}-{:02d}\".format(self.date.month,self.date.day)\n",
    "    \n",
    "class Date_Time_Reduce(Date_Reduce):\n",
    "    def __init__(self):\n",
    "        super().__init__()\n",
    "    def reduce(self,new_date_time):\n",
    "        date_str = super().reduce(new_date_time.date())\n",
    "        return date_str + \" \" + str(new_date_time.time())\n",
    "    \n",
    "        \n",
    "events_breach = events_shorting = 0\n",
    "premium_sum = 0\n",
    "\n",
    "\n",
    "dr_ts = Date_Time_Reduce()\n",
    "\n",
    "\n",
    "\n",
    "strategies = [Premium_only(),Strategy_let_expire(),Strategy_p_loss(2),Strategy_p_profit(.3)]\n",
    "\n",
    "print(\" \" * 96,end = \"\")\n",
    "\n",
    "for i,strategy in enumerate(strategies):\n",
    "    results = '{:>10}'.format(strategy.column_title)\n",
    "    print(results,end=\"\")\n",
    "print()\n",
    "\n",
    "dr = Date_Reduce()\n",
    "\n",
    "\n",
    "trade_num = 0\n",
    "\n",
    "trades = []\n",
    "\n",
    "HOURS_TO_EST = 3\n",
    "\n",
    "for i,event in enumerate(actions):\n",
    "    \n",
    "    ts = datetime.strptime(event['ts'], '%Y-%m-%dT%H:%M:%S') + timedelta(hours=HOURS_TO_EST)\n",
    "    \n",
    "    if all(item in event.keys() for item in  ['action','sym','spread_type','strike_date','strikes']):\n",
    "            \n",
    "        \n",
    "        if event['action'] == 'shorting':\n",
    "            \n",
    "            events_shorting = events_shorting + 1\n",
    "            \n",
    "            orderx = Order(ts,event['sym'],event['spread_type'],event['strike_date'],event['strikes'])\n",
    "            trade = Trade(orderx)\n",
    "            \n",
    "            if not trade.has_data():\n",
    "                print(\" \"*28 + \"{:<8}\".format(orderx.symbol),\"missing_data data\")\n",
    "                continue\n",
    "                \n",
    "            trades.append(trade)\n",
    "                \n",
    "            trade.init_data()\n",
    "            \n",
    "            \n",
    "            order_str = \"{:<8} {:<10} {:<4} {:6.1f}/{:6.1f}\".format(orderx.symbol,dr.reduce(orderx.expiry.date()),orderx.spread_type,orderx.strike_sell,orderx.strike_buy)\n",
    "    \n",
    "            output_trade_details = \"{:<4} {}    {}  {:8.2f} {:6.2f} / {:6.2f}  \".format( trade_num, dr_ts.reduce(ts),order_str,trade.price_underlying_close,trade.price_sell,trade.price_buy )\n",
    "            \n",
    "            print(output_trade_details,end=\"\")\n",
    "            \n",
    "            \n",
    "            for strategy in strategies:\n",
    "                val = strategy.trade(trade)\n",
    "                \n",
    "                if val is None:\n",
    "                    print(\"val is none\")\n",
    "            \n",
    "                if val:\n",
    "                    output = \"{:10.2f}\".format(val)\n",
    "                else:\n",
    "                    output = \"{:<10}\".format(\"\")\n",
    "                    \n",
    "                print(output,end=\"\")\n",
    "            \n",
    "            \n",
    "            print()\n",
    "            \n",
    "            trade_num = trade_num + 1\n",
    "            \n",
    "            #break\n",
    "            \n",
    "            \n",
    "\n",
    "\n",
    "print(\" \" * 94,end = \"\")\n",
    "\n",
    "for i,strategy in enumerate(strategies):\n",
    "    results = '{:>10.2f}'.format(round(strategy.pnl,2))\n",
    "    print(results,end=\"\")\n",
    "    \n",
    "\n",
    "print()\n",
    "\n",
    "for strategy in strategies:\n",
    "    print(strategy.summary_results())\n",
    "\n",
    "\n",
    "                \n",
    "\n"
   ]
  },
  {
   "cell_type": "code",
   "execution_count": null,
   "id": "c3176932",
   "metadata": {},
   "outputs": [],
   "source": [
    "d = datetime(year = 2020, month = 5, day = 6)\n",
    "print(d)"
   ]
  },
  {
   "cell_type": "code",
   "execution_count": null,
   "id": "1452e885",
   "metadata": {},
   "outputs": [],
   "source": [
    "d.year"
   ]
  },
  {
   "cell_type": "code",
   "execution_count": null,
   "id": "5360a58b",
   "metadata": {},
   "outputs": [],
   "source": [
    "trade.price_sell"
   ]
  },
  {
   "cell_type": "code",
   "execution_count": null,
   "id": "b31c551f",
   "metadata": {},
   "outputs": [],
   "source": [
    "trade.bars_sell"
   ]
  },
  {
   "cell_type": "code",
   "execution_count": null,
   "id": "302d71f7",
   "metadata": {},
   "outputs": [],
   "source": [
    "trade.bars_buy"
   ]
  },
  {
   "cell_type": "code",
   "execution_count": null,
   "id": "f1bf11d2",
   "metadata": {},
   "outputs": [],
   "source": [
    "from functools import reduce\n",
    "import numpy as np"
   ]
  },
  {
   "cell_type": "code",
   "execution_count": null,
   "id": "92a2e22f",
   "metadata": {},
   "outputs": [],
   "source": [
    "np.intersect1d(trade.bars_buy.time,trade.bars_sell.time)"
   ]
  },
  {
   "cell_type": "code",
   "execution_count": null,
   "id": "aec493fb",
   "metadata": {},
   "outputs": [],
   "source": [
    "trade.bars_buy"
   ]
  },
  {
   "cell_type": "code",
   "execution_count": null,
   "id": "e92c38c8",
   "metadata": {},
   "outputs": [],
   "source": [
    "trade.bars_sell"
   ]
  },
  {
   "cell_type": "code",
   "execution_count": null,
   "id": "331cc08b",
   "metadata": {},
   "outputs": [],
   "source": [
    "len(trades)"
   ]
  },
  {
   "cell_type": "code",
   "execution_count": null,
   "id": "608acbe1",
   "metadata": {},
   "outputs": [],
   "source": [
    "trades"
   ]
  },
  {
   "cell_type": "code",
   "execution_count": null,
   "id": "69c7a8d7",
   "metadata": {},
   "outputs": [],
   "source": [
    "trades[0].bars_underlying"
   ]
  },
  {
   "cell_type": "code",
   "execution_count": null,
   "id": "d2cb09c9",
   "metadata": {},
   "outputs": [],
   "source": [
    "import plotly.express as px"
   ]
  },
  {
   "cell_type": "code",
   "execution_count": null,
   "id": "a4d7ba19",
   "metadata": {},
   "outputs": [],
   "source": [
    "fig = px.line(trades[2].bars_underlying,x='time',y='close')\n",
    "fig.show()\n"
   ]
  },
  {
   "cell_type": "code",
   "execution_count": null,
   "id": "49c7436d",
   "metadata": {},
   "outputs": [],
   "source": [
    "import plotly.express as px\n",
    "import pandas as pd\n",
    "import numpy as np\n",
    "np.random.seed(1)\n",
    "\n",
    "work_week_40h = pd.date_range(start='2020-05-26', end='2020-05-30', freq=\"BM\")\n",
    "\n",
    "df = pd.DataFrame(dict(\n",
    "    date = work_week_40h,\n",
    "    value = np.cumsum(np.random.rand(len(work_week_40h))-0.5)\n",
    "))\n",
    "\n",
    "#df = trades[2].bars_underlying\n",
    "\n",
    "fig = px.scatter(df, x=\"date\", y=\"value\",\n",
    "#fig = px.line(df, x=\"time\", y=\"close\",\n",
    "                 title=\"Hide Non-Business Hour Gaps with rangebreaks\")\n",
    "fig.update_xaxes(\n",
    "    rangebreaks=[\n",
    "        dict(bounds=[17, 9], pattern=\"hour\"), #hide hours outside of 9am-5pm\n",
    "        #dict(bounds=[\"sat\", \"mon\"])\n",
    "        #dict(values=[\"2015-12-25\"])\n",
    "    ]\n",
    ")\n",
    "fig.show()"
   ]
  },
  {
   "cell_type": "code",
   "execution_count": null,
   "id": "f04751c0",
   "metadata": {},
   "outputs": [],
   "source": [
    "import plotly.express as px\n",
    "import pandas as pd\n",
    "import numpy as np\n",
    "import math\n",
    "\n",
    "\n",
    "\n",
    "\n",
    "\n",
    "df = trades[2].bars_underlying.copy()\n",
    "\n",
    "df = df.set_index(\"time\",drop=True)\n",
    "\n",
    "df = df.resample(\"min\").max()\n",
    "#df_resample = df\n",
    "\n",
    "test = df['close'].isnull()\n",
    "print( True in test.values)\n",
    "\n",
    "\n",
    "df = df.where(pd.notnull(df),None)\n",
    "\n",
    "\n",
    "test = df['close'].apply(lambda x: False if x is None else math.isnan(x))\n",
    "#print(test.tolist())\n",
    "print('close1 test', True in test.values)\n",
    "\n",
    "\n",
    "\n",
    "\n",
    "fig = px.line(df, x=df.index, y=\"close\",\n",
    "                 title=\"Hide Non-Business Hour Gaps by filling empty Y values with None\")\n",
    "\n",
    "fig.show()\n",
    "\n",
    "\n"
   ]
  },
  {
   "cell_type": "code",
   "execution_count": null,
   "id": "676cde2e",
   "metadata": {},
   "outputs": [],
   "source": [
    "print(df_resample)"
   ]
  },
  {
   "cell_type": "code",
   "execution_count": null,
   "id": "34383495",
   "metadata": {},
   "outputs": [],
   "source": [
    "for i,row in df_resample.iterrows():\n",
    "    print(i,row)"
   ]
  },
  {
   "cell_type": "code",
   "execution_count": null,
   "id": "63881203",
   "metadata": {},
   "outputs": [],
   "source": [
    "df = pd.DataFrame([1,np.nan])"
   ]
  },
  {
   "cell_type": "code",
   "execution_count": null,
   "id": "a42ab695",
   "metadata": {},
   "outputs": [],
   "source": [
    "print(df)"
   ]
  },
  {
   "cell_type": "code",
   "execution_count": null,
   "id": "1ae83090",
   "metadata": {},
   "outputs": [],
   "source": [
    "df1 = df.where(pd.notnull(df),None)"
   ]
  },
  {
   "cell_type": "code",
   "execution_count": null,
   "id": "f0222c07",
   "metadata": {},
   "outputs": [],
   "source": [
    "df1"
   ]
  },
  {
   "cell_type": "code",
   "execution_count": null,
   "id": "c6894c5c",
   "metadata": {},
   "outputs": [],
   "source": [
    "#https://stackoverflow.com/questions/61346100/plotly-how-to-style-a-plotly-figure-so-that-it-doesnt-display-gaps-for-missing\n",
    "\n",
    "import plotly.graph_objects as go\n",
    "from datetime import datetime\n",
    "import pandas as pd\n",
    "import numpy as np\n",
    "\n",
    "# sample data\n",
    "df = pd.read_csv('https://raw.githubusercontent.com/plotly/datasets/master/finance-charts-apple.csv')\n",
    "\n",
    "print(df)\n",
    "\n",
    "# remove some dates to build a similar case as in the question\n",
    "df = df.drop(df.index[75:110])\n",
    "df = df.drop(df.index[210:250])\n",
    "df = df.drop(df.index[460:480])\n",
    "\n",
    "\n",
    "# build complete timepline from start date to end date\n",
    "dt_all = pd.date_range(start=df['Date'].iloc[0],end=df['Date'].iloc[-1])\n",
    "\n",
    "# retrieve the dates that ARE in the original datset\n",
    "dt_obs = [d.strftime(\"%Y-%m-%d\") for d in pd.to_datetime(df['Date'])]\n",
    "\n",
    "# define dates with missing values\n",
    "dt_breaks = [d for d in dt_all.strftime(\"%Y-%m-%d\").tolist() if not d in dt_obs]\n",
    "\n",
    "# make fiuge\n",
    "fig = go.Figure(data=[go.Candlestick(x=df['Date'],\n",
    "                open=df['AAPL.Open'], high=df['AAPL.High'],\n",
    "                low=df['AAPL.Low'], close=df['AAPL.Close'])\n",
    "                      ])\n",
    "\n",
    "# hide dates with no values\n",
    "fig.update_xaxes(rangebreaks=[dict(values=dt_breaks)])\n",
    "\n",
    "fig.update_layout(yaxis_title='AAPL Stock')\n",
    "\n",
    "fig.show()"
   ]
  },
  {
   "cell_type": "code",
   "execution_count": null,
   "id": "73aa6715",
   "metadata": {},
   "outputs": [],
   "source": [
    "def every_n_df(df,n,title = 'none'):\n",
    "    print(\"title:\",title)\n",
    "    #df1 = df.reset_index()\n",
    "    c = 0\n",
    "    for i,row in df.iterrows():\n",
    "        c = c+1\n",
    "        if c==n:\n",
    "            print(i,row['time'])\n",
    "            c = 0\n",
    "            \n",
    "def every_n_list(l,n,title = 'none'):\n",
    "    print(\"title:\",title)\n",
    "    #df1 = df.reset_index()\n",
    "    c = 0\n",
    "    for i,val in enumerate(l):\n",
    "        c = c+1\n",
    "        if c==n:\n",
    "            print(i,val)\n",
    "            c = 0\n"
   ]
  },
  {
   "cell_type": "code",
   "execution_count": null,
   "id": "3eea7290",
   "metadata": {},
   "outputs": [],
   "source": [
    "#https://stackoverflow.com/questions/61346100/plotly-how-to-style-a-plotly-figure-so-that-it-doesnt-display-gaps-for-missing\n",
    "\n",
    "import plotly.graph_objects as go\n",
    "from datetime import datetime\n",
    "import pandas as pd\n",
    "import numpy as np\n",
    "\n",
    "# sample data\n",
    "df = pd.read_csv('https://raw.githubusercontent.com/plotly/datasets/master/finance-charts-apple.csv')\n",
    "\n",
    "#print(df)\n",
    "\n",
    "# remove some dates to build a similar case as in the question\n",
    "df = df.drop(df.index[75:110])\n",
    "df = df.drop(df.index[210:250])\n",
    "df = df.drop(df.index[460:480])\n",
    "\n",
    "df = trades[2].bars_underlying.copy()\n",
    "\n",
    "\n",
    "\n",
    "# build complete timepline from start date to end date\n",
    "dt_all = pd.date_range(start=df['time'].iloc[0],end=df['time'].iloc[-1],freq='min')\n",
    "\n",
    "# retrieve the dates that ARE in the original datset\n",
    "dt_obs = [d.strftime(\"%Y-%m-%d %H:%M:%S\") for d in pd.to_datetime(df['time'])]\n",
    "\n",
    "#print(dt_obs)\n",
    "\n",
    "# define dates with missing values\n",
    "dt_breaks = [d for d in dt_all.strftime(\"%Y-%m-%d %H:%M:%S\").tolist() if not d in dt_obs]\n",
    "\n",
    "print(len(dt_breaks))\n",
    "\n",
    "\n",
    "\n",
    "# make fiuge\n",
    "fig = go.Figure(data=[go.Line(x=df['time'],y=df['close'])])\n",
    "                #open=df['close'], high=df['close'],\n",
    "                #low=df['close'], close=df['close'])\n",
    "                # $     ])\n",
    "\n",
    "# hide dates with no values\n",
    "fig.update_xaxes(rangebreaks=[dict(values=dt_breaks)])\n",
    "\n",
    "fig.update_layout(yaxis_title='AAPL Stock')\n",
    "\n",
    "fig.show()"
   ]
  },
  {
   "cell_type": "code",
   "execution_count": null,
   "id": "7d41ef41",
   "metadata": {},
   "outputs": [],
   "source": [
    "import plotly.graph_objects as go\n",
    "from datetime import datetime\n",
    "import pandas as pd\n",
    "import numpy as np\n",
    "\n",
    "\n",
    "time_range = pd.date_range(start='2020-05-26', end='2020-05-30', freq=\"min\")\n",
    "\n",
    "df = pd.DataFrame(dict(\n",
    "    time = time_range,\n",
    "    close = np.cumsum(np.random.rand(len(time_range))-0.5)\n",
    "))\n",
    "\n",
    "\n",
    "df = df.drop(df.index[200:1000]) # make a gap\n",
    "df = df.drop(df.index[2000:3000]) # make a gap\n",
    "\n",
    "\n",
    "\n",
    "dt_all = pd.date_range(start=df['time'].iloc[0],end=df['time'].iloc[-1],freq = 'min')\n",
    "dt_obs = [d for d in pd.to_datetime(df['time'])]\n",
    "dt_breaks = [d for d in dt_all.tolist() if not d in dt_obs]\n",
    "\n",
    "\n",
    "fig = go.Figure(data=[go.Line(x=df['time'],y=df['close'])\n",
    "                      ])\n",
    "\n",
    "fig.update_xaxes(rangebreaks=[dict(values=dt_breaks)])\n",
    "\n",
    "\n",
    "fig.show()\n"
   ]
  },
  {
   "cell_type": "markdown",
   "id": "e1364a38",
   "metadata": {},
   "source": [
    "## Method: plot each day side by side\n"
   ]
  },
  {
   "cell_type": "code",
   "execution_count": null,
   "id": "5d542aed",
   "metadata": {},
   "outputs": [],
   "source": [
    "from plotly.subplots import make_subplots\n",
    "\n",
    "df = trades[2].bars_underlying.copy()\n",
    "\n",
    "dates = df['time'].apply(lambda x: x.date()).unique()\n",
    "\n",
    "fig = make_subplots(rows = 1,cols = len(dates),shared_yaxes=True,horizontal_spacing = 0)\n",
    "\n",
    "for i,date in enumerate(dates):\n",
    "    \n",
    "    df_date = df[df['time'].apply(lambda x: x.date() == date)]\n",
    "    \n",
    "    preamble_date_range = pd.date_range(start = datetime(date.year,date.month,date.day,hour = 9,minute = 31),\n",
    "                                        end = df_date['time'].iloc[0] - timedelta(minutes=1),\n",
    "                                        freq = 'min')\n",
    "    preamble_df = pd.DataFrame(({'time':  preamble_date_range}))\n",
    "    df_date = pd.concat([preamble_df,df_date])\n",
    "    \n",
    "    trace = go.Scatter(x=df_date['time'],y=df_date['close'],mode='lines',line_color = 'blue')\n",
    "    \n",
    "    fig.append_trace(trace,row = 1,col = i+1)\n",
    "    \n",
    "fig.show()"
   ]
  },
  {
   "cell_type": "markdown",
   "id": "bf2fd27f",
   "metadata": {},
   "source": [
    "## Method: Replace timestamps with string"
   ]
  },
  {
   "cell_type": "code",
   "execution_count": null,
   "id": "82993711",
   "metadata": {},
   "outputs": [],
   "source": [
    "df = trades[2].bars_underlying.copy()\n",
    "\n",
    "df['time'] = df['time'].astype(str)\n",
    "\n",
    "print(type(df['time'].iloc[0]))\n",
    "\n",
    "\n",
    "# make fiuge\n",
    "fig = go.Figure(data=[go.Line(x=df['time'],y=df['close'])])\n",
    "                #open=df['close'], high=df['close'],\n",
    "                #low=df['close'], close=df['close'])\n",
    "                # $     ])\n",
    "\n",
    "\n",
    "fig.update_layout(yaxis_title='AAPL Stock')\n",
    "\n",
    "fig.show()"
   ]
  },
  {
   "cell_type": "markdown",
   "id": "a33ca009",
   "metadata": {},
   "source": [
    "## Method: Change time to integers, then provide custom axis labels"
   ]
  },
  {
   "cell_type": "code",
   "execution_count": null,
   "id": "35cf0ddd",
   "metadata": {},
   "outputs": [],
   "source": [
    "\n",
    "import plotly.graph_objects as go\n",
    "from plotly.subplots import make_subplots\n",
    "\n",
    "MARKET_DAY_MINUTES = (6 * 60 + 30)\n",
    "MARKET_DAY_START = (9 * 60 + 30)\n",
    "TICK_SPACING = 30\n",
    "\n",
    "TICK_OFFSET = 0\n",
    "\n",
    "\n",
    "def show_graphs( dfs ):\n",
    "    \n",
    "    fig = make_subplots(rows = len(dfs),cols = 1,shared_xaxes=False)\n",
    "\n",
    "    hoverdata = []\n",
    "    \n",
    "    tickpos = []\n",
    "    ticktext = []\n",
    "    indexes = []\n",
    "    trace = []\n",
    "\n",
    "    \n",
    "    for plotnum,dfn in enumerate(dfs):\n",
    "        \n",
    "        \n",
    "        df = dfn.copy()\n",
    "        \n",
    "        col_name = df.columns[-1]\n",
    "\n",
    "\n",
    "        def convert_time_to_minute_index(df,date,day_num):\n",
    "    \n",
    "            day_base = day_num * MARKET_DAY_MINUTES \n",
    "    \n",
    "            df_date = df[df['time'].apply(lambda x: x.date() == date)].copy()\n",
    "    \n",
    "            df_date['time'] = df_date['time'].apply( lambda x: x.time().hour * 60 + x.time().minute)\n",
    "\n",
    "            df_date['time'] = df_date['time'] - MARKET_DAY_START + day_base\n",
    "    \n",
    "            return list(df_date['time'])\n",
    "\n",
    "        def get_axis_ticks(date,day_num,offset):\n",
    "    \n",
    "            tickpos = []\n",
    "            ticktext = []\n",
    "        \n",
    "            day_base = day_num * MARKET_DAY_MINUTES\n",
    "        \n",
    "            day_ticks = [ x for x in range(0,MARKET_DAY_MINUTES)]\n",
    "        \n",
    "            for i,day_tick in enumerate(day_ticks):\n",
    "                if not day_tick % TICK_SPACING:\n",
    "                    tickpos.append(i + day_base + TICK_OFFSET)\n",
    "                    day_minute = day_tick + MARKET_DAY_START\n",
    "                    hour = int(day_minute/60)\n",
    "                    t = time( hour,day_minute - hour*60)\n",
    "                    t = datetime.combine(date,t)\n",
    "                \n",
    "                    if not i:\n",
    "                        if not day_num:\n",
    "                            ticktext.append(t.strftime(\"%Y-%m-%d %H:%M\"))\n",
    "                        else:\n",
    "                            ticktext.append(t.strftime(\"%m-%d %H:%M\"))\n",
    "                    else:\n",
    "                        ticktext.append(t.strftime(\"%H:%M\"))\n",
    "                    \n",
    "            return tickpos,ticktext\n",
    "\n",
    "        indexes.append([])\n",
    "        \n",
    "        tickpos.append([])\n",
    "        ticktext.append([])\n",
    "        hoverdata.append([])\n",
    "\n",
    "        hoverdata[plotnum].append(df['time'].apply(lambda x: x.strftime(\"%H:%M\")))\n",
    "        \n",
    "\n",
    "        offset_time = df['time'].iloc[0].time()\n",
    "        offset = offset_time.hour * 60 + offset_time.minute - MARKET_DAY_START\n",
    "\n",
    "        dates = df['time'].apply(lambda x: x.date()).unique()\n",
    "        for i,date in enumerate(dates):\n",
    "            minute_index = convert_time_to_minute_index(df,date,i)\n",
    "            indexes[plotnum].extend(minute_index)\n",
    "            pos,text = get_axis_ticks(date,i,offset)\n",
    "            tickpos[plotnum].extend(pos.copy())\n",
    "            ticktext[plotnum].extend(text.copy())\n",
    "    \n",
    "        df['time'] = indexes[plotnum]\n",
    "\n",
    "#        trace = go.Figure(data=[go.Scatter(x=df['time'],y=df['close'],\n",
    "#                                     #customdata=customdata,\n",
    "#                                     #hovertemplate='z1:%{customdata[0]:.3f}',\n",
    "#                                     hovertext = hoverdata,\n",
    "#                                     hoverlabel=dict(namelength=0),\n",
    "#                                     hovertemplate='%{hovertext}<br>%{x}<br>%{y:.2f}',\n",
    "#                                     #mode='lines',  # without mode, defaults to line+markers\n",
    "#                                     line_color = 'blue')])\n",
    "        \n",
    "        trace.append(go.Scatter(x=df['time'],y=df[col_name],\n",
    "                                     #customdata=customdata,\n",
    "                                     #hovertemplate='z1:%{customdata[0]:.3f}',\n",
    "                                     hovertext = hoverdata[plotnum],\n",
    "                                     hoverlabel=dict(namelength=0),\n",
    "                                     hovertemplate='%{hovertext[plotnum]}<br>%{x}<br>%{y:.2f}',\n",
    "                                     #mode='lines',  # without mode, defaults to line+markers\n",
    "                                     line_color = 'blue'))\n",
    "\n",
    "\n",
    "\n",
    "#        trace.update_layout(yaxis_title='AAPL Stock',\n",
    "#                     xaxis = dict(tickangle = 45,\n",
    "#                                 tickmode = 'array',\n",
    "#                                  tickvals = tickpos,\n",
    "#                                 ticktext = ticktext))\n",
    "        \n",
    "        fig.append_trace(trace[plotnum],row = plotnum+1,col =1)\n",
    "        \n",
    "        sym = df.iloc[0]['symbol']\n",
    "        \n",
    "        fig.update_layout(yaxis_title=sym,xaxis = dict(tickangle = 45,\n",
    "                        tickmode = 'array',\n",
    "                        tickvals = tickpos[plotnum],\n",
    "                        ticktext = ticktext[plotnum]))\n",
    "        \n",
    "        #trace.show()\n",
    "        \n",
    "\n",
    "    fig.show()\n",
    "    \n",
    "\n",
    "data = {'time':[datetime(2020,2,3,10,0),\n",
    "                datetime(2020,2,3,10,15),\n",
    "                datetime(2020,2,3,11,22),\n",
    "                datetime(2020,2,3,13,10),\n",
    "                \n",
    "                datetime(2020,2,4,9,31),\n",
    "                datetime(2020,2,4,13,30),\n",
    "                datetime(2020,2,4,14,24),\n",
    "                datetime(2020,2,4,16,0),\n",
    "                \n",
    "                datetime(2020,2,5,9,31),\n",
    "                datetime(2020,2,5,11,22),\n",
    "                datetime(2020,2,5,13,50),\n",
    "                datetime(2020,2,5,16,00)\n",
    "               ],\n",
    "        \n",
    "        'close':[1,2,3,4,5,6,7,8,9,10,11,12]}\n",
    "\n",
    "#df = pd.DataFrame(data)\n",
    "\n",
    "df = trades[190]\n",
    "\n",
    "\n",
    "\n",
    "show_graphs([df.bars_premium,df.bars_underlying])\n",
    "\n"
   ]
  },
  {
   "cell_type": "code",
   "execution_count": null,
   "id": "74b35c50",
   "metadata": {},
   "outputs": [],
   "source": [
    "show_graphs([df.bars_underlying])"
   ]
  },
  {
   "cell_type": "code",
   "execution_count": null,
   "id": "3dc00d28",
   "metadata": {},
   "outputs": [],
   "source": [
    "\n",
    "\n",
    "data = {'time':[datetime(2020,2,3,9,45),\n",
    "                datetime(2020,2,3,10,15),\n",
    "                datetime(2020,2,3,11,22),\n",
    "                datetime(2020,2,3,13,10),\n",
    "                datetime(2020,2,4,10,1),\n",
    "                datetime(2020,2,4,13,30),\n",
    "                datetime(2020,2,4,14,34),\n",
    "                datetime(2020,2,4,16,30),\n",
    "                datetime(2020,2,5,9,31),\n",
    "                datetime(2020,2,5,11,22),\n",
    "                datetime(2020,2,5,13,50),\n",
    "                datetime(2020,2,5,13,30)\n",
    "               ],\n",
    "        \n",
    "        'close':[1,2,3,4,5,6,7,8,9,10,11,12]}\n",
    "\n",
    "df = pd.DataFrame(data)"
   ]
  },
  {
   "cell_type": "code",
   "execution_count": null,
   "id": "751c28b0",
   "metadata": {},
   "outputs": [],
   "source": [
    "df"
   ]
  },
  {
   "cell_type": "code",
   "execution_count": null,
   "id": "0b460da4",
   "metadata": {},
   "outputs": [],
   "source": [
    "time(4,5)"
   ]
  },
  {
   "cell_type": "code",
   "execution_count": null,
   "id": "bbcb3e37",
   "metadata": {},
   "outputs": [],
   "source": [
    "datetime.combine"
   ]
  },
  {
   "cell_type": "code",
   "execution_count": null,
   "id": "69a5c3e0",
   "metadata": {},
   "outputs": [],
   "source": [
    "df = trades[2]\n",
    "df.bars_premium"
   ]
  },
  {
   "cell_type": "code",
   "execution_count": null,
   "id": "273454d1",
   "metadata": {},
   "outputs": [],
   "source": [
    "df.bars_underlying"
   ]
  },
  {
   "cell_type": "code",
   "execution_count": null,
   "id": "bbec77b7",
   "metadata": {},
   "outputs": [],
   "source": [
    "int_times = np.intersect1d(df.bars_buy.time,df.bars_sell.time)\n",
    "print(len(int_times))\n",
    "print(len(df.bars_buy))\n",
    "print(len(df.bars_sell))"
   ]
  },
  {
   "cell_type": "code",
   "execution_count": null,
   "id": "3fab5c1c",
   "metadata": {},
   "outputs": [],
   "source": [
    "common_buy = df.bars_buy[df.bars_buy['time'] == int_times]"
   ]
  },
  {
   "cell_type": "code",
   "execution_count": null,
   "id": "34b7f7f7",
   "metadata": {},
   "outputs": [],
   "source": [
    "commen_sell = df.bars_sell[df.bars_sell['time'] == int_times]"
   ]
  },
  {
   "cell_type": "code",
   "execution_count": null,
   "id": "5215d093",
   "metadata": {},
   "outputs": [],
   "source": [
    "s1 = pd.merge(df.bars_sell,df.bars_buy, how='inner', on=['time'])\n",
    "s1.dropna(inplace=True)"
   ]
  },
  {
   "cell_type": "code",
   "execution_count": null,
   "id": "1a677740",
   "metadata": {},
   "outputs": [],
   "source": [
    "frame = { 'time': s1['time'],'mid': s1['mid_x'] - s1['mid_y']}"
   ]
  },
  {
   "cell_type": "code",
   "execution_count": null,
   "id": "ec5218fe",
   "metadata": {},
   "outputs": [],
   "source": [
    "result = pd.DataFrame(frame)"
   ]
  },
  {
   "cell_type": "code",
   "execution_count": null,
   "id": "4f9a6bff",
   "metadata": {},
   "outputs": [],
   "source": [
    "print(result)"
   ]
  },
  {
   "cell_type": "code",
   "execution_count": null,
   "id": "0fa71636",
   "metadata": {},
   "outputs": [],
   "source": [
    "s1 = pd.merge(df.bars_sell,df.bars_buy, how='inner', on=['time'])\n",
    "s1.dropna(inplace=True)\n",
    "frame = { 'time': s1['time'],'mid': s1['mid_x'] - s1['mid_y']}\n",
    "result = pd.DataFrame(frame)"
   ]
  },
  {
   "cell_type": "code",
   "execution_count": null,
   "id": "e9059509",
   "metadata": {},
   "outputs": [],
   "source": [
    "trades[2].bars_premium"
   ]
  },
  {
   "cell_type": "code",
   "execution_count": null,
   "id": "08ec4af1",
   "metadata": {},
   "outputs": [],
   "source": [
    "trades[3].bars_premium"
   ]
  },
  {
   "cell_type": "code",
   "execution_count": null,
   "id": "2d4a38c5",
   "metadata": {},
   "outputs": [],
   "source": [
    "with open(\"/home/cc/Dropbox/option_bars.json\",'r') as infile:\n",
    "    json.load(infile)"
   ]
  },
  {
   "cell_type": "code",
   "execution_count": null,
   "id": "7e356d59",
   "metadata": {},
   "outputs": [],
   "source": []
  }
 ],
 "metadata": {
  "kernelspec": {
   "display_name": "Python 3",
   "language": "python",
   "name": "python3"
  },
  "language_info": {
   "codemirror_mode": {
    "name": "ipython",
    "version": 3
   },
   "file_extension": ".py",
   "mimetype": "text/x-python",
   "name": "python",
   "nbconvert_exporter": "python",
   "pygments_lexer": "ipython3",
   "version": "3.7.10"
  }
 },
 "nbformat": 4,
 "nbformat_minor": 5
}
