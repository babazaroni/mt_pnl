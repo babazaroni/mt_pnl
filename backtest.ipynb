{
 "cells": [
  {
   "cell_type": "code",
   "execution_count": null,
   "id": "476b1b46",
   "metadata": {},
   "outputs": [],
   "source": [
    "\n",
    "\n",
    "dp_short_180_call =  data_pipe(collection,symbol,call,strike,expiry,ts_start,ts_end)\n",
    "dp_long_190_call =  data_pipe(collection,symbol,call,strike,expiry,ts_start,ts_end)\n",
    "\n",
    "dp_premium = data_pipe_combine(dp_short_180_call,dp_long_190_call,lambda a,b: a-b)\n",
    "\n",
    "\n",
    "\n",
    "\n"
   ]
  }
 ],
 "metadata": {
  "kernelspec": {
   "display_name": "Python 3",
   "language": "python",
   "name": "python3"
  },
  "language_info": {
   "codemirror_mode": {
    "name": "ipython",
    "version": 3
   },
   "file_extension": ".py",
   "mimetype": "text/x-python",
   "name": "python",
   "nbconvert_exporter": "python",
   "pygments_lexer": "ipython3",
   "version": "3.7.10"
  }
 },
 "nbformat": 4,
 "nbformat_minor": 5
}
